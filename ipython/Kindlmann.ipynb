{
 "cells": [
  {
   "cell_type": "markdown",
   "metadata": {},
   "source": [
    "# Kindlmann Color Map\n",
    "\n",
    "This iPython notebook contains the script required to derive what is often known as the Kindlmann color map, so named because its first known design is in [a paper by Kindlmann, Reinhard, and Creem](http://www.cs.utah.edu/~gk/papers/vis02/), although this derivation takes inspiration from other sources. The map is basically the rainbow color map with the luminance adjusted such that it monotonically changes, making it much more perceptually viable."
   ]
  },
  {
   "cell_type": "markdown",
   "metadata": {},
   "source": [
    "This code relies on the [python-colormath](http://python-colormath.readthedocs.org/en/latest/index.html) module. See [its documentation](http://python-colormath.readthedocs.org/en/latest/index.html) for information such as installation instructions. (It can be installed with either pip or macports.)"
   ]
  },
  {
   "cell_type": "code",
   "execution_count": 1,
   "metadata": {
    "collapsed": true
   },
   "outputs": [],
   "source": [
    "from colormath.color_objects import *\n",
    "from colormath.color_conversions import convert_color"
   ]
  },
  {
   "cell_type": "markdown",
   "metadata": {},
   "source": [
    "Mostly because it's habit, I am also using [pandas](http://pandas.pydata.org/) dataframes to organize the data. (Pandas can be installed with macports.)"
   ]
  },
  {
   "cell_type": "code",
   "execution_count": 2,
   "metadata": {
    "collapsed": true
   },
   "outputs": [],
   "source": [
    "import pandas\n",
    "import numpy"
   ]
  },
  {
   "cell_type": "markdown",
   "metadata": {},
   "source": [
    "We will also be using [toyplot](https://toyplot.readthedocs.org) for making visuals. See its documentation for installation instructions."
   ]
  },
  {
   "cell_type": "code",
   "execution_count": 3,
   "metadata": {
    "collapsed": true
   },
   "outputs": [],
   "source": [
    "import toyplot\n",
    "import toyplot.pdf"
   ]
  },
  {
   "cell_type": "markdown",
   "metadata": {},
   "source": [
    "### Support Functions\n",
    "\n",
    "The original Kindlmann paper created their color map by having a human user adjust the brightness to a prescribed luminance. (The color map was really proposed as a use case for a technique that allows humans to match colors.) Personally, I think this technique is overkill. First of all, no one is going to calibrate to their display. (*I* don't even want to do it one time just to get initial values.) Second, any change in the display will invalidate the calibration anyway.\n",
    "\n",
    "Instead, I am going to use a programmatic technique proposed in [a blog post by Matteo Niccoli](https://mycarta.wordpress.com/2012/12/06/the-rainbow-is-deadlong-live-the-rainbow-part-5-cie-lab-linear-l-rainbow/). The idea is to convert the RGB values to the perceptual CIELAB space, adjust the L (luminance) value in CIELAB, and then convert back to RGB.\n",
    "\n",
    "To do this, we need a function that takes a hue value and adjusts its luminance. Of course, we need to convert to CIELAB and alter the L value. But then we also have to adjust the a and b values so that the color is back in the representable color gamut. We do this with a binary search."
   ]
  },
  {
   "cell_type": "code",
   "execution_count": null,
   "metadata": {
    "collapsed": true
   },
   "outputs": [],
   "source": [
    "def adjust_color(hue, scalar):\n",
    "    '''Given a hue value (in degrees) and a scalar value between\n",
    "    0 and 1, adjust the color to have a luminance proportional to\n",
    "    the scalar. Returns an sRGBColor value.'''"
   ]
  },
  {
   "cell_type": "markdown",
   "metadata": {},
   "source": [
    "### Original Color Map\n",
    "\n",
    "The color map in the original Kindlmann paper follows the rainbow hues from purple through blue and green to red. We will use those hues first, but also derive a slightly alternate one below."
   ]
  },
  {
   "cell_type": "code",
   "execution_count": 12,
   "metadata": {
    "collapsed": false
   },
   "outputs": [
    {
     "data": {
      "text/plain": [
       "HSVColor(hsv_h=240.0,hsv_s=1.0,hsv_v=1.0)"
      ]
     },
     "execution_count": 12,
     "metadata": {},
     "output_type": "execute_result"
    }
   ],
   "source": [
    "rgb = sRGBColor(0, 0, 1)\n",
    "convert_color(rgb, HSVColor)"
   ]
  },
  {
   "cell_type": "code",
   "execution_count": 11,
   "metadata": {
    "collapsed": true
   },
   "outputs": [],
   "source": [
    "start_hue = 300.0\n",
    "end_hue = 0.0"
   ]
  },
  {
   "cell_type": "markdown",
   "metadata": {},
   "source": [
    "We start by creating a \"short\" map with a minimal amount of control points. These control points are placed where the RGB interpolation bends, which every 60 degrees in HSV space. Create a table starting with the scalar values and the hue angle for each one."
   ]
  },
  {
   "cell_type": "code",
   "execution_count": 17,
   "metadata": {
    "collapsed": false
   },
   "outputs": [
    {
     "data": {
      "text/html": [
       "<div>\n",
       "<table border=\"1\" class=\"dataframe\">\n",
       "  <thead>\n",
       "    <tr style=\"text-align: right;\">\n",
       "      <th></th>\n",
       "      <th>hue</th>\n",
       "      <th>scalar</th>\n",
       "    </tr>\n",
       "  </thead>\n",
       "  <tbody>\n",
       "    <tr>\n",
       "      <th>0</th>\n",
       "      <td>300</td>\n",
       "      <td>0.0</td>\n",
       "    </tr>\n",
       "    <tr>\n",
       "      <th>1</th>\n",
       "      <td>240</td>\n",
       "      <td>0.2</td>\n",
       "    </tr>\n",
       "    <tr>\n",
       "      <th>2</th>\n",
       "      <td>180</td>\n",
       "      <td>0.4</td>\n",
       "    </tr>\n",
       "    <tr>\n",
       "      <th>3</th>\n",
       "      <td>120</td>\n",
       "      <td>0.6</td>\n",
       "    </tr>\n",
       "    <tr>\n",
       "      <th>4</th>\n",
       "      <td>60</td>\n",
       "      <td>0.8</td>\n",
       "    </tr>\n",
       "    <tr>\n",
       "      <th>5</th>\n",
       "      <td>0</td>\n",
       "      <td>1.0</td>\n",
       "    </tr>\n",
       "  </tbody>\n",
       "</table>\n",
       "</div>"
      ],
      "text/plain": [
       "   hue  scalar\n",
       "0  300     0.0\n",
       "1  240     0.2\n",
       "2  180     0.4\n",
       "3  120     0.6\n",
       "4   60     0.8\n",
       "5    0     1.0"
      ]
     },
     "execution_count": 17,
     "metadata": {},
     "output_type": "execute_result"
    }
   ],
   "source": [
    "data_short = pandas.DataFrame()\n",
    "data_short['hue'] = numpy.arange(start_hue, end_hue-0.0001, -60.0)\n",
    "data_short['scalar'] = numpy.linspace(0.0, 1.0, data['hue'].size)\n",
    "data_short"
   ]
  },
  {
   "cell_type": "code",
   "execution_count": null,
   "metadata": {
    "collapsed": true
   },
   "outputs": [],
   "source": []
  }
 ],
 "metadata": {
  "kernelspec": {
   "display_name": "Python 2",
   "language": "python",
   "name": "python2"
  },
  "language_info": {
   "codemirror_mode": {
    "name": "ipython",
    "version": 2
   },
   "file_extension": ".py",
   "mimetype": "text/x-python",
   "name": "python",
   "nbconvert_exporter": "python",
   "pygments_lexer": "ipython2",
   "version": "2.7.10"
  }
 },
 "nbformat": 4,
 "nbformat_minor": 0
}
