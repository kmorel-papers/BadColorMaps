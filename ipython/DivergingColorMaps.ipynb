{
 "cells": [
  {
   "cell_type": "markdown",
   "metadata": {},
   "source": [
    "# Diverging Color Maps\n",
    "\n",
    "This notebook describes the creation of some diverging color maps for scientific visualization. The techniques are based on \"[Diverging Color Maps for Scientific Visualization](http://www.kennethmoreland.com/color-maps/)\" by Kenneth Moreland."
   ]
  },
  {
   "cell_type": "code",
   "execution_count": 57,
   "metadata": {
    "collapsed": true
   },
   "outputs": [],
   "source": [
    "from __future__ import print_function"
   ]
  },
  {
   "cell_type": "markdown",
   "metadata": {},
   "source": [
    "## Msh Color Space\n",
    "\n",
    "The diverging color maps are based off of a color space named Msh, which is simply polar coordinates for the CIELAB space. Here is the creating of an actual `MshColor` class for the `colormath` python package as well as the conversion function for it."
   ]
  },
  {
   "cell_type": "code",
   "execution_count": 5,
   "metadata": {
    "collapsed": false
   },
   "outputs": [],
   "source": [
    "from colormath.color_objects import *\n",
    "from colormath.color_conversions import convert_color, color_conversion_function"
   ]
  },
  {
   "cell_type": "code",
   "execution_count": 15,
   "metadata": {
    "collapsed": true
   },
   "outputs": [],
   "source": [
    "class MshColor(IlluminantMixin, ColorBase):\n",
    "    '''\n",
    "    Represents an Msh color as defined by [Moreland2009]. The Msh color space\n",
    "    is basically just a polar representation of CIE Lab space.\n",
    "    See `Diverging Color Maps for Scientific Visualization\n",
    "    <http://www.kennethmoreland.com/color-maps/>` for more information.\n",
    "    '''\n",
    "\n",
    "    VALUES = ['msh_m', 'msh_s', 'msh_h']\n",
    "\n",
    "    def __init__(self, msh_m, msh_s, msh_h, observer='2', illuminant='d50'):\n",
    "        \"\"\"\n",
    "        :param float msh_m: M coordinate.\n",
    "        :param float msh_s: s coordinate.\n",
    "        :param float msh_h: h coordinate.\n",
    "        :keyword str observer: Observer angle. Either ``'2'`` or ``'10'`` degrees.\n",
    "        :keyword str illuminant: See :doc:`illuminants` for valid values.\n",
    "        \"\"\"\n",
    "\n",
    "        super(MshColor, self).__init__()\n",
    "        #: M coordinate\n",
    "        self.msh_m = float(msh_m)\n",
    "        #: C coordinate\n",
    "        self.msh_s = float(msh_s)\n",
    "        #: H coordinate\n",
    "        self.msh_h = float(msh_h)\n",
    "\n",
    "        #: The color's observer angle. Set with :py:meth:`set_observer`.\n",
    "        self.observer = None\n",
    "        #: The color's illuminant. Set with :py:meth:`set_illuminant`.\n",
    "        self.illuminant = None\n",
    "\n",
    "        self.set_observer(observer)\n",
    "        self.set_illuminant(illuminant)\n",
    "\n",
    "@color_conversion_function(LabColor, MshColor)\n",
    "def Lab_to_Msh(cobj, *args, **kwargs):\n",
    "    \"\"\"\n",
    "    Convert from CIE Lab to Msh.\n",
    "    \"\"\"\n",
    "\n",
    "    msh_m = math.sqrt(math.pow(float(cobj.lab_l),2) +\n",
    "                      math.pow(float(cobj.lab_a),2) +\n",
    "                      math.pow(float(cobj.lab_b),2))\n",
    "    msh_s = math.acos(float(cobj.lab_l)/msh_m)\n",
    "    msh_h = math.atan2(float(cobj.lab_b), float(cobj.lab_a))\n",
    "    \n",
    "    return MshColor(msh_m, msh_s, msh_h,\n",
    "                    observer=cobj.observer,\n",
    "                    illuminant=cobj.illuminant)\n",
    "\n",
    "@color_conversion_function(MshColor, LabColor)\n",
    "def Msh_to_Lab(cobj, *args, **kwargs):\n",
    "    \"\"\"\n",
    "    Convert from Msh to Lab.\n",
    "    \"\"\"\n",
    "    \n",
    "    lab_l = cobj.msh_m * math.cos(float(cobj.msh_s))\n",
    "    lab_a = cobj.msh_m * math.sin(float(cobj.msh_s)) * math.cos(float(cobj.msh_h))\n",
    "    lab_b = cobj.msh_m * math.sin(float(cobj.msh_s)) * math.sin(float(cobj.msh_h))\n",
    "    return LabColor(lab_l, lab_a, lab_b,\n",
    "                    illuminant=cobj.illuminant,\n",
    "                    observer=cobj.observer)"
   ]
  },
  {
   "cell_type": "markdown",
   "metadata": {},
   "source": [
    "## Diverging Color Map Generation\n",
    "\n",
    "Here we create a class named `DivergingColorMap` designed to create diverging color maps based on the definition of the endpoints."
   ]
  },
  {
   "cell_type": "code",
   "execution_count": 18,
   "metadata": {
    "collapsed": true
   },
   "outputs": [],
   "source": [
    "import numpy"
   ]
  },
  {
   "cell_type": "code",
   "execution_count": 76,
   "metadata": {
    "collapsed": false
   },
   "outputs": [],
   "source": [
    "class DivergingColorMap:\n",
    "    def __init__(self,\n",
    "                 low_color=sRGBColor(0.230, 0.299, 0.754),\n",
    "                 high_color=sRGBColor(0.706, 0.016, 0.150),\n",
    "                 mid_color=MshColor(88.0, 0.0, 0.0)):\n",
    "        \"\"\"\n",
    "        :param color low_color: The color at the low end of the map.\n",
    "        :param color high_color: The color at the high end of the map.\n",
    "        :param color mid_color: The color at the middle of the map. Should be unsaturated.\n",
    "        \"\"\"\n",
    "        self.low_msh = convert_color(low_color, MshColor)\n",
    "        self.high_msh = convert_color(high_color, MshColor)\n",
    "        \n",
    "        # If the points are saturated and distinct, then we place a white point\n",
    "        # in the middle. Otherwise we ignore it.\n",
    "        if self.low_msh.msh_s > 0.05:\n",
    "            if self.high_msh.msh_s > 0.05:\n",
    "                if (abs(self.low_msh.msh_h - self.high_msh.msh_h) > math.pi/3.0) \\\n",
    "                     and mid_color:\n",
    "                    # Both endpoints are saturated and unique and a midpoint was\n",
    "                    # given. Interpolate through this midpoint and compute an\n",
    "                    # appropriate hue spin.\n",
    "                    mid_msh = convert_color(mid_color, MshColor)\n",
    "                    self.midpoint_magnitude = mid_msh.msh_m\n",
    "                    self.midpoint_low_hue = self.compute_hue_spin(self.low_msh,mid_msh)\n",
    "                    self.midpoint_high_hue = self.compute_hue_spin(self.high_msh,mid_msh)\n",
    "                else:\n",
    "                    # Both endpoints are distinct colors, but they are either very close\n",
    "                    # in hue or no middle point was given. In this case, interpolate\n",
    "                    # directly between them.\n",
    "                    self.midpoint_magnitude = None\n",
    "            else:\n",
    "                # The low color is saturated but the high color is unsaturated.\n",
    "                # Interpolate directly between them, but adjust the hue of the unsaturated\n",
    "                # high color.\n",
    "                self.midpoint_magnitude = None\n",
    "                self.high_msh.msh_h = self.compute_hue_spin(self.low_msh, self.high_msh)\n",
    "        else:\n",
    "            # The low color is unsaturated. Assume the high color is saturated. (If not,\n",
    "            # then this is a boring map no matter what we do.) Interpolate directly\n",
    "            # between them, but adjust the hue of the unsaturated low color.\n",
    "            self.midpoint_magnitude = None\n",
    "            self.low_msh.msh_h = self.compute_hue_spin(self.high_msh, self.low_msh)\n",
    "            \n",
    "    def compute_hue_spin(self, MshSaturated, MshUnsaturated):\n",
    "        '''\n",
    "        Given a saturated color and unsaturated color, both as MshColor objects,\n",
    "        computes a spin component to use during interpolation in Msh space. The spin\n",
    "        is considered the target hue to interpolate to.\n",
    "        '''\n",
    "        if MshSaturated.msh_m >= MshUnsaturated.msh_m:\n",
    "            return MshSaturated.msh_h\n",
    "        else:\n",
    "            hSpin = (MshSaturated.msh_s * \n",
    "                     math.sqrt(math.pow(MshUnsaturated.msh_m,2) - \n",
    "                               math.pow(MshSaturated.msh_m,2)) /\n",
    "                     (MshSaturated.msh_m * math.sin(MshSaturated.msh_s)))\n",
    "            if MshSaturated.msh_h > -math.pi/3:\n",
    "                return MshSaturated.msh_h + hSpin\n",
    "            else:\n",
    "                return MshSaturated.msh_h - hSpin\n",
    "                \n",
    "    def print_self(self):\n",
    "        print('Low Color:')\n",
    "        print('\\t', self.low_msh)\n",
    "        print('\\t', convert_color(self.low_msh, LabColor))\n",
    "        print('\\t', convert_color(self.low_msh, sRGBColor))\n",
    "        \n",
    "        print('Middle Color:')\n",
    "        if (self.midpoint_magnitude):\n",
    "            print('\\t Magnitude', self.midpoint_magnitude)\n",
    "            print('\\t Low Hue', self.midpoint_low_hue)\n",
    "            print('\\t High Hue', self.midpoint_high_hue)\n",
    "        else:\n",
    "            print('\\t No Midpoint')\n",
    "\n",
    "        print('High Color:')\n",
    "        print('\\t', self.high_msh)\n",
    "        print('\\t', convert_color(self.high_msh, LabColor))\n",
    "        print('\\t', convert_color(self.high_msh, sRGBColor))\n",
    "        \n",
    "    def map_scalar(self, scalar, space=MshColor):\n",
    "        '''\n",
    "        Given a scalar value between 0 and 1, map to a color. The color is\n",
    "        returned as a sRGBColor object.\n",
    "        \n",
    "        :param float scalar: The value to map to a color.\n",
    "        :param color_object space: The colormath color object to do interpolation in.\n",
    "        '''\n",
    "        if scalar < 0:\n",
    "            return convert_color(self.low_msh, sRGBColor)\n",
    "        if scalar > 1:\n",
    "            return convert_color(self.high_msh, sRGBColor)\n",
    "        \n",
    "        interp = scalar\n",
    "        low_color = convert_color(self.low_msh, space)\n",
    "        high_color = convert_color(self.high_msh, space)\n",
    "        if self.midpoint_magnitude:\n",
    "            # Adjust the interpolation around the midpoint\n",
    "            if scalar < 0.5:\n",
    "                interp = 2*scalar\n",
    "                high_msh = MshColor(self.midpoint_magnitude, 0, self.midpoint_low_hue)\n",
    "                high_color = convert_color(high_msh, space)\n",
    "            else:\n",
    "                interp = 2*scalar - 1\n",
    "                low_msh = MshColor(self.midpoint_magnitude, 0, self.midpoint_high_hue)\n",
    "                low_color = convert_color(low_msh, space)\n",
    "        low_color = numpy.array(low_color.get_value_tuple())\n",
    "        high_color = numpy.array(high_color.get_value_tuple())\n",
    "        \n",
    "        mid_color = scalar*(high_color-low_color) + low_color\n",
    "        return convert_color(space(mid_color[0], mid_color[1], mid_color[2]), sRGBColor)\n",
    "    \n",
    "    def map_scalar_array(self, scalar_array, space=MshColor):\n",
    "        '''\n",
    "        Given an array of scalar values between 0 and 1, map them to colors.\n",
    "        The color is returned as a sRGBColor object.\n",
    "        \n",
    "        :param float scalar_array: Array of values to map to colors.\n",
    "        :param color_object space: The colormath color object to do interpolation in.\n",
    "        '''\n",
    "        f = numpy.vectorize(lambda x: self.map_scalar(x, space))\n",
    "        return f(scalar_array)\n"
   ]
  },
  {
   "cell_type": "code",
   "execution_count": 77,
   "metadata": {
    "collapsed": false
   },
   "outputs": [
    {
     "name": "stdout",
     "output_type": "stream",
     "text": [
      "Low Color:\n",
      "\t MshColor (msh_m:80.0154 msh_s:1.0797 msh_h:-1.1002)\n",
      "\t LabColor (lab_l:37.7323 lab_a:31.9920 lab_b:-62.8908)\n",
      "\t sRGBColor (rgb_r:0.2300 rgb_g:0.2990 rgb_b:0.7540)\n",
      "Middle Color:\n",
      "\t Magnitude 88.0\n",
      "\t Low Hue -1.66069640671\n",
      "\t High Hue 1.06065056047\n",
      "High Color:\n",
      "\t MshColor (msh_m:80.0316 msh_s:1.0798 msh_h:0.5008)\n",
      "\t LabColor (lab_l:37.7337 lab_a:61.9104 lab_b:33.8870)\n",
      "\t sRGBColor (rgb_r:0.7060 rgb_g:0.0160 rgb_b:0.1500)\n"
     ]
    },
    {
     "data": {
      "text/plain": [
       "array([ sRGBColor(rgb_r=0.33479085013469045,rgb_g=0.283084370264951,rgb_b=0.756495219863611),\n",
       "       sRGBColor(rgb_r=0.39456404490675145,rgb_g=0.3818058106254375,rgb_b=0.8384781178189287),\n",
       "       sRGBColor(rgb_r=0.4550961439823504,rgb_g=0.47626226785895526,rgb_b=0.9057598446594739),\n",
       "       sRGBColor(rgb_r=0.5167066223614254,rgb_g=0.5648870209230162,rgb_b=0.9562607343227431),\n",
       "       sRGBColor(rgb_r=0.5791975464203365,rgb_g=0.6456756724467666,rgb_b=0.9884740170314358),\n",
       "       sRGBColor(rgb_r=0.9287090217168672,rgb_g=0.5585781064970988,rgb_b=0.4398548585227716),\n",
       "       sRGBColor(rgb_r=0.8917642509165304,rgb_g=0.4596696193821584,rgb_b=0.3589582355716216),\n",
       "       sRGBColor(rgb_r=0.8395646331483451,rgb_g=0.34947536811974367,rgb_b=0.2836533275737351),\n",
       "       sRGBColor(rgb_r=0.7733329403058399,rgb_g=0.22214643574714943,rgb_b=0.21518638497290393),\n",
       "       sRGBColor(rgb_r=0.6946256248213637,rgb_g=0.0029646104576792577,rgb_b=0.15458182827759628)], dtype=object)"
      ]
     },
     "execution_count": 77,
     "metadata": {},
     "output_type": "execute_result"
    }
   ],
   "source": [
    "diverging_color_map = DivergingColorMap()\n",
    "diverging_color_map.print_self()\n",
    "diverging_color_map.map_scalar_array(numpy.linspace(0,1,10))"
   ]
  },
  {
   "cell_type": "code",
   "execution_count": null,
   "metadata": {
    "collapsed": true
   },
   "outputs": [],
   "source": []
  }
 ],
 "metadata": {
  "kernelspec": {
   "display_name": "Python 2",
   "language": "python",
   "name": "python2"
  },
  "language_info": {
   "codemirror_mode": {
    "name": "ipython",
    "version": 2
   },
   "file_extension": ".py",
   "mimetype": "text/x-python",
   "name": "python",
   "nbconvert_exporter": "python",
   "pygments_lexer": "ipython2",
   "version": "2.7.10"
  }
 },
 "nbformat": 4,
 "nbformat_minor": 0
}
